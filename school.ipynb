{
 "cells": [
  {
   "cell_type": "code",
   "execution_count": 4,
   "metadata": {},
   "outputs": [],
   "source": [
    "import pyautogui as pag;\n",
    "import time;\n",
    "import pyperclip;\n",
    "from tika import parser;"
   ]
  },
  {
   "cell_type": "code",
   "execution_count": 5,
   "metadata": {},
   "outputs": [],
   "source": [
    "#Parametersz\n",
    "questionN = [1,2,3]; # number of questions | array format [1,2,3,4...]\n",
    "title = ''; # OPTIONAL, But can take a little more time. Here is where we're going to \n",
    "# split the questions from the text. To the question's index don't be huge\n",
    "questions_list = [];\n",
    "file_name = '' # 'example.pdf' "
   ]
  },
  {
   "cell_type": "code",
   "execution_count": 6,
   "metadata": {
    "scrolled": true
   },
   "outputs": [],
   "source": [
    "import fitz  # this is pymupdf | PDF Reader\n",
    "\n",
    "with fitz.open(file_name) as doc:\n",
    "    text = \"\"\n",
    "    for page in doc:\n",
    "        text += page.getText()\n",
    "\n",
    "# splitted = text.split(' ');\n",
    "findQ = text.find(title);\n",
    "new_text =text[findQ:]\n",
    "new_text\n",
    "\n",
    "for num in map(str,questionN): \n",
    "    questionsIndex = new_text.find('\\n' + num);\n",
    "    question_text = new_text[questionsIndex:][:75]\n",
    "    questions_list.append(question_text);"
   ]
  },
  {
   "cell_type": "code",
   "execution_count": 8,
   "metadata": {
    "scrolled": true
   },
   "outputs": [],
   "source": [
    "for qIndex in map(str, questionN):\n",
    "    print(questions_list[int(qIndex) - 1])\n",
    "    pag.hotkey('ctrl', 't');\n",
    "    pyperclip.copy(questions_list[int(qIndex) - 1]);\n",
    "    pag.hotkey('ctrl', 'v');\n",
    "    pag.press('enter');"
   ]
  }
 ],
 "metadata": {
  "kernelspec": {
   "display_name": "Python 3",
   "language": "python",
   "name": "python3"
  },
  "language_info": {
   "codemirror_mode": {
    "name": "ipython",
    "version": 3
   },
   "file_extension": ".py",
   "mimetype": "text/x-python",
   "name": "python",
   "nbconvert_exporter": "python",
   "pygments_lexer": "ipython3",
   "version": "3.8.5"
  }
 },
 "nbformat": 4,
 "nbformat_minor": 4
}
