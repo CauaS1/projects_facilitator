{
 "cells": [
  {
   "cell_type": "code",
   "execution_count": 265,
   "metadata": {},
   "outputs": [],
   "source": [
    "import pyautogui as pag;\n",
    "import time;\n",
    "import pyperclip;\n",
    "from tika import parser;"
   ]
  },
  {
   "cell_type": "code",
   "execution_count": 266,
   "metadata": {},
   "outputs": [],
   "source": [
    "#Parametersz\n",
    "questionN = [1,2,3]; # number of questions\n",
    "title = 'ATIVIDADES'; # Here is where we're going to split the questions from the text. To the question's index don't be huge\n",
    "questions_list = [];\n",
    "file_name = 'history.pdf' # 'example.pdf' "
   ]
  },
  {
   "cell_type": "code",
   "execution_count": 267,
   "metadata": {
    "scrolled": true
   },
   "outputs": [],
   "source": [
    "import fitz  # this is pymupdf | PDF Reader\n",
    "\n",
    "with fitz.open(file_name) as doc:\n",
    "    text = \"\"\n",
    "    for page in doc:\n",
    "        text += page.getText()\n",
    "\n",
    "# splitted = text.split(' ');\n",
    "findQ = text.find(title);\n",
    "new_text =text[findQ:]\n",
    "new_text\n",
    "\n",
    "for num in map(str,questionN): \n",
    "    questionsIndex = new_text.find('\\n' + num);\n",
    "    question_text = new_text[questionsIndex:][:75]\n",
    "    questions_list.append(question_text);"
   ]
  },
  {
   "cell_type": "code",
   "execution_count": 272,
   "metadata": {
    "scrolled": true
   },
   "outputs": [
    {
     "name": "stdout",
     "output_type": "stream",
     "text": [
      "\n",
      "1 - (Enem-2014) Três décadas — de 1884 a 1914 — separam o século XIX — que\n",
      "\n",
      "2 - O conflito de 1914-1918 deixou em campos opostos os seguintes países: \n",
      "\n",
      "3 – Qual foi o motivo imediato para o início da Primeira Guerra Mundial? \n",
      "\n"
     ]
    }
   ],
   "source": [
    "for qIndex in map(str, questionN):\n",
    "    print(questions_list[int(qIndex) - 1])\n",
    "    pag.hotkey('ctrl', 't');\n",
    "    pyperclip.copy(questions_list[int(qIndex) - 1]);\n",
    "    pag.hotkey('ctrl', 'v');\n",
    "    pag.press('enter');"
   ]
  },
  {
   "cell_type": "code",
   "execution_count": null,
   "metadata": {},
   "outputs": [],
   "source": []
  }
 ],
 "metadata": {
  "kernelspec": {
   "display_name": "Python 3",
   "language": "python",
   "name": "python3"
  },
  "language_info": {
   "codemirror_mode": {
    "name": "ipython",
    "version": 3
   },
   "file_extension": ".py",
   "mimetype": "text/x-python",
   "name": "python",
   "nbconvert_exporter": "python",
   "pygments_lexer": "ipython3",
   "version": "3.8.5"
  }
 },
 "nbformat": 4,
 "nbformat_minor": 4
}
